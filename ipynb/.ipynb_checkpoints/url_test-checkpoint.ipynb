{
 "cells": [
  {
   "cell_type": "markdown",
   "metadata": {},
   "source": [
    "Tutorial: http://bottlepy.org/docs/dev/index.html\n",
    "<br>This script runs an url command with python script to print hello <name> on http://localhost:8080/hello/<name>"
   ]
  },
  {
   "cell_type": "code",
   "execution_count": 1,
   "metadata": {},
   "outputs": [
    {
     "name": "stderr",
     "output_type": "stream",
     "text": [
      "Bottle v0.12.17 server starting up (using WSGIRefServer())...\n",
      "Listening on http://localhost:8080/\n",
      "Hit Ctrl-C to quit.\n",
      "\n",
      "127.0.0.1 - - [29/Oct/2019 06:45:36] \"GET / HTTP/1.1\" 404 720\n",
      "127.0.0.1 - - [29/Oct/2019 06:45:36] \"GET /favicon.ico HTTP/1.1\" 404 742\n",
      "127.0.0.1 - - [29/Oct/2019 06:45:42] \"GET / HTTP/1.1\" 404 720\n",
      "127.0.0.1 - - [29/Oct/2019 06:45:51] \"GET /hello/world HTTP/1.1\" 200 19\n",
      "127.0.0.1 - - [29/Oct/2019 06:45:56] \"GET /hello/world HTTP/1.1\" 200 19\n",
      "127.0.0.1 - - [29/Oct/2019 06:46:14] \"GET /hello/dude HTTP/1.1\" 200 18\n"
     ]
    }
   ],
   "source": [
    "from bottle import route, run, template\n",
    "\n",
    "@route('/hello/<name>')\n",
    "def index(name):\n",
    "    return template('<b>Hello {{name}}</b>!', name=name)\n",
    "\n",
    "run(host='localhost', port=8080)"
   ]
  },
  {
   "cell_type": "code",
   "execution_count": null,
   "metadata": {},
   "outputs": [],
   "source": [
    "from bottle import route, run, template\n",
    "\n",
    "@route('hello/<name>')\n",
    "def index(name):\n",
    "    return template('<b>Hello {{name}}</b>!', name=name)\n",
    "\n",
    "run(host='localhost', port=8080)"
   ]
  },
  {
   "cell_type": "code",
   "execution_count": null,
   "metadata": {},
   "outputs": [],
   "source": []
  }
 ],
 "metadata": {
  "kernelspec": {
   "display_name": "Python 3",
   "language": "python",
   "name": "python3"
  },
  "language_info": {
   "codemirror_mode": {
    "name": "ipython",
    "version": 3
   },
   "file_extension": ".py",
   "mimetype": "text/x-python",
   "name": "python",
   "nbconvert_exporter": "python",
   "pygments_lexer": "ipython3",
   "version": "3.6.8"
  }
 },
 "nbformat": 4,
 "nbformat_minor": 2
}
