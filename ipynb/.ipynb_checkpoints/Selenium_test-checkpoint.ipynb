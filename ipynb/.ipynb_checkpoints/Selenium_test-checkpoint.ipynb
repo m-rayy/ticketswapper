{
 "cells": [
  {
   "cell_type": "code",
   "execution_count": 10,
   "metadata": {},
   "outputs": [],
   "source": [
    "from selenium import webdriver\n",
    "from webdriver_manager.chrome import ChromeDriverManager\n",
    "import time"
   ]
  },
  {
   "cell_type": "code",
   "execution_count": 11,
   "metadata": {},
   "outputs": [
    {
     "name": "stdout",
     "output_type": "stream",
     "text": [
      "\n",
      "Looking for [chromedriver 78.0.3904.70 mac64] driver in cache \n",
      "File found in cache by path [/Users/TimeMachine/.wdm/drivers/chromedriver/78.0.3904.70/mac64/chromedriver]\n"
     ]
    }
   ],
   "source": [
    "browser = webdriver.Chrome(ChromeDriverManager().install())\n",
    "# Load & test non sold-out url\n",
    "url_open = \"https://www.ticketswap.uk/listing/amon-amarth-berserker-world-tour-2019/4084179/0844726b91\"\n",
    "browser.get(url_open)\n",
    "# Sleep for 3 seconds for button to load (be clickable)\n",
    "time.sleep(3)\n",
    "#To find the button selector, \"inspect\" button and COPY SELECTOR:\n",
    "doc = browser.find_element_by_css_selector('#__next > div.css-zurcqo.ed16ac60 > div.css-qdgppd.e2a8jjg0 > div > form > button')\n",
    "doc.click()"
   ]
  },
  {
   "cell_type": "code",
   "execution_count": 12,
   "metadata": {},
   "outputs": [],
   "source": [
    "browser.quit()"
   ]
  },
  {
   "cell_type": "code",
   "execution_count": null,
   "metadata": {},
   "outputs": [],
   "source": [
    "#TODO: combine with main script\n",
    "#Check whether buy button is there\n",
    "#Repeat until it is\n",
    "#Ticket added to basket\n",
    "#Note: you must be logged on. Since webdriver needs relogin, find a way to click from existing browser"
   ]
  }
 ],
 "metadata": {
  "kernelspec": {
   "display_name": "Python 3",
   "language": "python",
   "name": "python3"
  },
  "language_info": {
   "codemirror_mode": {
    "name": "ipython",
    "version": 3
   },
   "file_extension": ".py",
   "mimetype": "text/x-python",
   "name": "python",
   "nbconvert_exporter": "python",
   "pygments_lexer": "ipython3",
   "version": "3.6.8"
  }
 },
 "nbformat": 4,
 "nbformat_minor": 2
}
