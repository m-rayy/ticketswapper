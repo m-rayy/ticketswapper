{
 "cells": [
  {
   "cell_type": "code",
   "execution_count": 1,
   "metadata": {},
   "outputs": [],
   "source": [
    "# Load dependencies\n",
    "from bs4 import BeautifulSoup\n",
    "import requests\n",
    "import json\n",
    "import time\n",
    "import random\n",
    "import webbrowser\n",
    "import sys\n",
    "\n",
    "sys.setrecursionlimit(9999)"
   ]
  },
  {
   "cell_type": "code",
   "execution_count": null,
   "metadata": {},
   "outputs": [],
   "source": [
    "# Get the function parameters from terminal\n",
    "# url = sys.argv[1]\n",
    "# category = int(sys.argv[2])"
   ]
  },
  {
   "cell_type": "code",
   "execution_count": 18,
   "metadata": {},
   "outputs": [],
   "source": [
    "# Load url\n",
    "# url = \"https://www.ticketswap.nl/event/queen-adam-lambert-the-rhapsody-tour/floor-tickets/23a41750-3429-4ae9-9727-2ec36f43bf4f/1449038\"\n",
    "# url = \"https://www.ticketswap.nl/event/korn/floor-tickets/f1ec04f3-af13-4e99-af2a-6c53bb4614a2/1504712\"\n",
    "url = \"https://www.ticketswap.nl/event/korn/f1ec04f3-af13-4e99-af2a-6c53bb4614a2\""
   ]
  },
  {
   "cell_type": "code",
   "execution_count": 11,
   "metadata": {},
   "outputs": [],
   "source": [
    "def check_ticketswap_offers(url, category, counter = 0):\n",
    "    page = requests.get(url)\n",
    "    soup = BeautifulSoup(page.text, 'html.parser')\n",
    "    ldjson_soup = soup.findAll(\"script\", attrs = {'type':\"application/json\"})\n",
    "    ldjson_str = ldjson_soup[0].text\n",
    "    ldjson = json.loads(ldjson_str)\n",
    "    #if int(ldjson['props']['pageProps']['data']['node']['availableTicketsCount']) < 1:\n",
    "    if int(ldjson['props']['pageProps']['eventType']['availableTicketsCount']) < 1:\n",
    "        seconds = random.randrange (75, 125) / 100\n",
    "        time.sleep(seconds)\n",
    "        counter += 1\n",
    "        print(\"Try %s\" % counter)\n",
    "        return check_ticketswap_offers(url, category, counter)\n",
    "    url_open = ldjson['props']['pageProps']['data']['node']['event']['types']['edges'][category-1]['node']['availableListings']['edges'][0]['node']['uri']['url']\n",
    "    webbrowser.open_new(url_open)\n",
    "    \n",
    "#Tip: use ldjson.keys() to see set of keys on the highest level"
   ]
  },
  {
   "cell_type": "code",
   "execution_count": 12,
   "metadata": {},
   "outputs": [],
   "source": [
    "#TODO: come up with a way to scan ticket types and select via prompt to create dynamic code"
   ]
  },
  {
   "cell_type": "code",
   "execution_count": 13,
   "metadata": {},
   "outputs": [
    {
     "ename": "KeyError",
     "evalue": "'data'",
     "output_type": "error",
     "traceback": [
      "\u001b[1;31m---------------------------------------------------------------------------\u001b[0m",
      "\u001b[1;31mKeyError\u001b[0m                                  Traceback (most recent call last)",
      "\u001b[1;32m<ipython-input-13-29d3f92518ee>\u001b[0m in \u001b[0;36m<module>\u001b[1;34m\u001b[0m\n\u001b[0;32m      1\u001b[0m \u001b[1;31m# Load & test url:\u001b[0m\u001b[1;33m\u001b[0m\u001b[1;33m\u001b[0m\u001b[1;33m\u001b[0m\u001b[0m\n\u001b[1;32m----> 2\u001b[1;33m \u001b[0mcheck_ticketswap_offers\u001b[0m\u001b[1;33m(\u001b[0m\u001b[0murl\u001b[0m\u001b[1;33m,\u001b[0m \u001b[1;36m1\u001b[0m\u001b[1;33m)\u001b[0m\u001b[1;33m\u001b[0m\u001b[1;33m\u001b[0m\u001b[0m\n\u001b[0m",
      "\u001b[1;32m<ipython-input-11-f3cc16cc6c9b>\u001b[0m in \u001b[0;36mcheck_ticketswap_offers\u001b[1;34m(url, category, counter)\u001b[0m\n\u001b[0;32m     12\u001b[0m         \u001b[0mprint\u001b[0m\u001b[1;33m(\u001b[0m\u001b[1;34m\"Try %s\"\u001b[0m \u001b[1;33m%\u001b[0m \u001b[0mcounter\u001b[0m\u001b[1;33m)\u001b[0m\u001b[1;33m\u001b[0m\u001b[1;33m\u001b[0m\u001b[0m\n\u001b[0;32m     13\u001b[0m         \u001b[1;32mreturn\u001b[0m \u001b[0mcheck_ticketswap_offers\u001b[0m\u001b[1;33m(\u001b[0m\u001b[0murl\u001b[0m\u001b[1;33m,\u001b[0m \u001b[0mcategory\u001b[0m\u001b[1;33m,\u001b[0m \u001b[0mcounter\u001b[0m\u001b[1;33m)\u001b[0m\u001b[1;33m\u001b[0m\u001b[1;33m\u001b[0m\u001b[0m\n\u001b[1;32m---> 14\u001b[1;33m     \u001b[0murl_open\u001b[0m \u001b[1;33m=\u001b[0m \u001b[0mldjson\u001b[0m\u001b[1;33m[\u001b[0m\u001b[1;34m'props'\u001b[0m\u001b[1;33m]\u001b[0m\u001b[1;33m[\u001b[0m\u001b[1;34m'pageProps'\u001b[0m\u001b[1;33m]\u001b[0m\u001b[1;33m[\u001b[0m\u001b[1;34m'data'\u001b[0m\u001b[1;33m]\u001b[0m\u001b[1;33m[\u001b[0m\u001b[1;34m'node'\u001b[0m\u001b[1;33m]\u001b[0m\u001b[1;33m[\u001b[0m\u001b[1;34m'event'\u001b[0m\u001b[1;33m]\u001b[0m\u001b[1;33m[\u001b[0m\u001b[1;34m'types'\u001b[0m\u001b[1;33m]\u001b[0m\u001b[1;33m[\u001b[0m\u001b[1;34m'edges'\u001b[0m\u001b[1;33m]\u001b[0m\u001b[1;33m[\u001b[0m\u001b[0mcategory\u001b[0m\u001b[1;33m-\u001b[0m\u001b[1;36m1\u001b[0m\u001b[1;33m]\u001b[0m\u001b[1;33m[\u001b[0m\u001b[1;34m'node'\u001b[0m\u001b[1;33m]\u001b[0m\u001b[1;33m[\u001b[0m\u001b[1;34m'availableListings'\u001b[0m\u001b[1;33m]\u001b[0m\u001b[1;33m[\u001b[0m\u001b[1;34m'edges'\u001b[0m\u001b[1;33m]\u001b[0m\u001b[1;33m[\u001b[0m\u001b[1;36m0\u001b[0m\u001b[1;33m]\u001b[0m\u001b[1;33m[\u001b[0m\u001b[1;34m'node'\u001b[0m\u001b[1;33m]\u001b[0m\u001b[1;33m[\u001b[0m\u001b[1;34m'uri'\u001b[0m\u001b[1;33m]\u001b[0m\u001b[1;33m[\u001b[0m\u001b[1;34m'url'\u001b[0m\u001b[1;33m]\u001b[0m\u001b[1;33m\u001b[0m\u001b[1;33m\u001b[0m\u001b[0m\n\u001b[0m\u001b[0;32m     15\u001b[0m     \u001b[0mwebbrowser\u001b[0m\u001b[1;33m.\u001b[0m\u001b[0mopen_new\u001b[0m\u001b[1;33m(\u001b[0m\u001b[0murl_open\u001b[0m\u001b[1;33m)\u001b[0m\u001b[1;33m\u001b[0m\u001b[1;33m\u001b[0m\u001b[0m\n\u001b[0;32m     16\u001b[0m \u001b[1;33m\u001b[0m\u001b[0m\n",
      "\u001b[1;31mKeyError\u001b[0m: 'data'"
     ]
    }
   ],
   "source": [
    "# Load & test url:\n",
    "check_ticketswap_offers(url, 1)"
   ]
  },
  {
   "cell_type": "markdown",
   "metadata": {},
   "source": [
    "Sub-ticket page research:"
   ]
  },
  {
   "cell_type": "code",
   "execution_count": 20,
   "metadata": {},
   "outputs": [],
   "source": [
    "page = requests.get(url)\n",
    "soup = BeautifulSoup(page.text, 'html.parser')\n",
    "ldjson_soup = soup.findAll(\"script\", attrs = {'type':\"application/json\"})\n",
    "ldjson_str = ldjson_soup[0].text\n",
    "ldjson = json.loads(ldjson_str)"
   ]
  },
  {
   "cell_type": "code",
   "execution_count": 15,
   "metadata": {},
   "outputs": [
    {
     "data": {
      "text/plain": "dict_keys(['props', 'page', 'query', 'buildId', 'assetPrefix', 'runtimeConfig', 'isFallback'])"
     },
     "execution_count": 15,
     "metadata": {},
     "output_type": "execute_result"
    }
   ],
   "source": [
    "ldjson.keys()"
   ]
  },
  {
   "cell_type": "code",
   "execution_count": 21,
   "metadata": {},
   "outputs": [
    {
     "ename": "KeyError",
     "evalue": "'eventType'",
     "output_type": "error",
     "traceback": [
      "\u001b[1;31m---------------------------------------------------------------------------\u001b[0m",
      "\u001b[1;31mKeyError\u001b[0m                                  Traceback (most recent call last)",
      "\u001b[1;32m<ipython-input-21-b9162f0bcf67>\u001b[0m in \u001b[0;36m<module>\u001b[1;34m\u001b[0m\n\u001b[1;32m----> 1\u001b[1;33m \u001b[0mldjson\u001b[0m\u001b[1;33m[\u001b[0m\u001b[1;34m'props'\u001b[0m\u001b[1;33m]\u001b[0m\u001b[1;33m[\u001b[0m\u001b[1;34m'pageProps'\u001b[0m\u001b[1;33m]\u001b[0m\u001b[1;33m[\u001b[0m\u001b[1;34m'eventType'\u001b[0m\u001b[1;33m]\u001b[0m\u001b[1;33m.\u001b[0m\u001b[0mkeys\u001b[0m\u001b[1;33m(\u001b[0m\u001b[1;33m)\u001b[0m\u001b[1;33m\u001b[0m\u001b[1;33m\u001b[0m\u001b[0m\n\u001b[0m",
      "\u001b[1;31mKeyError\u001b[0m: 'eventType'"
     ]
    }
   ],
   "source": [
    "ldjson['props']['pageProps']['eventType'].keys()"
   ]
  },
  {
   "cell_type": "code",
   "execution_count": 17,
   "metadata": {},
   "outputs": [
    {
     "data": {
      "text/plain": "[{'node': {'seller': {'id': 'VXNlcjo3ODk1OTI=',\n    'avatar': 'https://cdn.ticketswap.com/public/201806/6d5fca94-c2b4-4bef-8a41-3fccb9c321e1.jpeg',\n    '__typename': 'PublicUser'},\n   '__typename': 'PublicListing'},\n  '__typename': 'ListingEdge'},\n {'node': {'seller': {'id': 'VXNlcjo4MzgwNQ==',\n    'avatar': 'https://cdn.ticketswap.com/public/201806/4e1cae78-57d5-4491-b9e0-db96dd47fbd8.jpeg',\n    '__typename': 'PublicUser'},\n   '__typename': 'PublicListing'},\n  '__typename': 'ListingEdge'}]"
     },
     "execution_count": 17,
     "metadata": {},
     "output_type": "execute_result"
    }
   ],
   "source": [
    "ldjson['props']['pageProps']['eventType']['availableListings']['edges']"
   ]
  },
  {
   "cell_type": "markdown",
   "metadata": {},
   "source": [
    "Top-ticket page research:"
   ]
  },
  {
   "cell_type": "code",
   "execution_count": 98,
   "metadata": {},
   "outputs": [],
   "source": [
    "url = 'https://www.ticketswap.com/event/the-weeknd-the-after-hours-tour/ea3cfc09-a4c7-44d1-afb3-07aac5e14551'\n",
    "page = requests.get(url)\n",
    "soup = BeautifulSoup(page.text, 'html.parser')\n",
    "ldjson_soup = soup.findAll(\"script\", attrs = {'type':\"application/json\"})\n",
    "ldjson_str = ldjson_soup[0].text\n",
    "ldjson = json.loads(ldjson_str)"
   ]
  },
  {
   "cell_type": "code",
   "execution_count": 28,
   "metadata": {},
   "outputs": [
    {
     "data": {
      "text/plain": "dict_keys(['props', 'page', 'query', 'buildId', 'assetPrefix', 'runtimeConfig', 'isFallback'])"
     },
     "execution_count": 28,
     "metadata": {},
     "output_type": "execute_result"
    }
   ],
   "source": [
    "ldjson.keys()"
   ]
  },
  {
   "cell_type": "code",
   "execution_count": 29,
   "metadata": {},
   "outputs": [
    {
     "data": {
      "text/plain": "dict_keys(['initialI18nStore', 'initialLanguage', 'i18nServerInstance', 'viewer', 'deviceInfo', 'pageProps', 'languageFromRequest', 'apolloState'])"
     },
     "execution_count": 29,
     "metadata": {},
     "output_type": "execute_result"
    }
   ],
   "source": [
    "ldjson['props'].keys()"
   ]
  },
  {
   "cell_type": "code",
   "execution_count": 94,
   "metadata": {},
   "outputs": [
    {
     "data": {
      "text/plain": "{'RXZlbnRUeXBlOjE2MjM5NzY=': {'id': 'RXZlbnRUeXBlOjE2MjM5NzY=',\n  'slug': 'regular-tickets',\n  'title': 'Regular',\n  'isSellingBlocked': False,\n  'startDate': '2020-03-14T19:30:00+01:00',\n  'endDate': None,\n  'availableTicketsCount': 1,\n  'soldTicketsCount': 0,\n  'ticketAlertsCount': 0,\n  'organizerProduct': None,\n  'listings({\"filter\":{\"listingStatus\":\"AVAILABLE\"},\"first\":2})': {'type': 'id',\n   'generated': True,\n   'id': '$RXZlbnRUeXBlOjE2MjM5NzY=.listings({\"filter\":{\"listingStatus\":\"AVAILABLE\"},\"first\":2})',\n   'typename': 'ListingConnection'},\n  'listings({\"filter\":{\"listingStatus\":\"SOLD\"},\"first\":2})': {'type': 'id',\n   'generated': True,\n   'id': '$RXZlbnRUeXBlOjE2MjM5NzY=.listings({\"filter\":{\"listingStatus\":\"SOLD\"},\"first\":2})',\n   'typename': 'ListingConnection'},\n  'ticketAlerts({\"first\":8})': {'type': 'id',\n   'generated': True,\n   'id': '$RXZlbnRUeXBlOjE2MjM5NzY=.ticketAlerts({\"first\":8})',\n   'typename': 'TicketAlertConnection'},\n  '__typename': 'EventType',\n  'event': {'type': 'id',\n   'generated': False,\n   'id': 'RXZlbnQ6YjE4NmMwYmUtMjEzOC00ZWExLWI2NmEtODJjOTg0ODY3OGI0',\n   'typename': 'ActiveEvent'},\n  'wantedListingsCount': 0,\n  'availableListings': {'type': 'id',\n   'generated': True,\n   'id': '$RXZlbnRUeXBlOjE2MjM5NzY=.availableListings',\n   'typename': 'ListingConnection'},\n  'listings({\"filter\":{\"listingStatus\":\"AVAILABLE\"},\"first\":50})': {'type': 'id',\n   'generated': True,\n   'id': '$RXZlbnRUeXBlOjE2MjM5NzY=.listings({\"filter\":{\"listingStatus\":\"AVAILABLE\"},\"first\":50})',\n   'typename': 'ListingConnection'},\n  'listings({\"filter\":{\"listingStatus\":\"RESERVED\"},\"first\":10})': {'type': 'id',\n   'generated': True,\n   'id': '$RXZlbnRUeXBlOjE2MjM5NzY=.listings({\"filter\":{\"listingStatus\":\"RESERVED\"},\"first\":10})',\n   'typename': 'ListingConnection'}},\n 'VXNlcjo1MTAxNDU4': {'id': 'VXNlcjo1MTAxNDU4',\n  'avatar': 'https://cdn.ticketswap.com/static/images/avatar-unknown.png',\n  '__typename': 'PublicUser',\n  'firstname': 'Anne'},\n '$RXZlbnRUeXBlOjE2MjM5NzY=.listings({\"filter\":{\"listingStatus\":\"AVAILABLE\"},\"first\":2}).edges.0.node': {'seller': {'type': 'id',\n   'generated': False,\n   'id': 'VXNlcjo1MTAxNDU4',\n   'typename': 'PublicUser'},\n  '__typename': 'PublicListing'},\n '$RXZlbnRUeXBlOjE2MjM5NzY=.listings({\"filter\":{\"listingStatus\":\"AVAILABLE\"},\"first\":2}).edges.0': {'node': {'type': 'id',\n   'generated': True,\n   'id': '$RXZlbnRUeXBlOjE2MjM5NzY=.listings({\"filter\":{\"listingStatus\":\"AVAILABLE\"},\"first\":2}).edges.0.node',\n   'typename': 'PublicListing'},\n  '__typename': 'ListingEdge'},\n '$RXZlbnRUeXBlOjE2MjM5NzY=.listings({\"filter\":{\"listingStatus\":\"AVAILABLE\"},\"first\":2})': {'edges': [{'type': 'id',\n    'generated': True,\n    'id': '$RXZlbnRUeXBlOjE2MjM5NzY=.listings({\"filter\":{\"listingStatus\":\"AVAILABLE\"},\"first\":2}).edges.0',\n    'typename': 'ListingEdge'}],\n  '__typename': 'ListingConnection'},\n '$RXZlbnRUeXBlOjE2MjM5NzY=.listings({\"filter\":{\"listingStatus\":\"SOLD\"},\"first\":2})': {'edges': [],\n  '__typename': 'ListingConnection'},\n '$RXZlbnRUeXBlOjE2MjM5NzY=.ticketAlerts({\"first\":8})': {'edges': [],\n  '__typename': 'TicketAlertConnection'},\n 'RXZlbnQ6YjE4NmMwYmUtMjEzOC00ZWExLWI2NmEtODJjOTg0ODY3OGI0': {'id': 'RXZlbnQ6YjE4NmMwYmUtMjEzOC00ZWExLWI2NmEtODJjOTg0ODY3OGI0',\n  'slug': 'pina-bausch-die-sieben-todsunden',\n  'name': 'Pina Bausch - Die sieben Todsünden',\n  'status': 'ACTIVE',\n  'isSellingBlocked': False,\n  'isBuyingBlocked': False,\n  'isPopular': False,\n  'category': None,\n  'instagramUsername': None,\n  'startDate': '2020-03-14T19:30:00+01:00',\n  'endDate': None,\n  'facebookEventWalls': [],\n  'isVerified': True,\n  'seoMetadata': {'type': 'id',\n   'generated': True,\n   'id': '$RXZlbnQ6YjE4NmMwYmUtMjEzOC00ZWExLWI2NmEtODJjOTg0ODY3OGI0.seoMetadata',\n   'typename': 'SeoMetadata'},\n  'alias': None,\n  'imageUrl': 'https://cdn.ticketswap.com/static/images/placeholders/default-2.jpg',\n  'imageSmallUrl': None,\n  'ticketShopUrl': None,\n  'organizerShop': None,\n  'location': {'type': 'id',\n   'generated': False,\n   'id': 'TG9jYXRpb246MzI3ODQ=',\n   'typename': 'Location'},\n  'artists': [],\n  'types({\"first\":99})': {'type': 'id',\n   'generated': True,\n   'id': '$RXZlbnQ6YjE4NmMwYmUtMjEzOC00ZWExLWI2NmEtODJjOTg0ODY3OGI0.types({\"first\":99})',\n   'typename': 'EventTypeConnection'},\n  '__typename': 'ActiveEvent',\n  'isHighlighted': False,\n  'availableTicketsCount': 1,\n  'soldTicketsCount': 0,\n  'ticketAlertsCount': 0,\n  'types({\"filter\":{\"ticketCategory\":\"ENTRANCE\"},\"first\":99})': {'type': 'id',\n   'generated': True,\n   'id': '$RXZlbnQ6YjE4NmMwYmUtMjEzOC00ZWExLWI2NmEtODJjOTg0ODY3OGI0.types({\"filter\":{\"ticketCategory\":\"ENTRANCE\"},\"first\":99})',\n   'typename': 'EventTypeConnection'},\n  'types({\"filter\":{\"hasGroup\":false,\"ticketCategory\":\"NON_ENTRANCE\"},\"first\":99})': {'type': 'id',\n   'generated': True,\n   'id': '$RXZlbnQ6YjE4NmMwYmUtMjEzOC00ZWExLWI2NmEtODJjOTg0ODY3OGI0.types({\"filter\":{\"hasGroup\":false,\"ticketCategory\":\"NON_ENTRANCE\"},\"first\":99})',\n   'typename': 'EventTypeConnection'},\n  'eventTypeGroups': [],\n  'redirectedTo': None,\n  'listings({\"filter\":{\"listingStatus\":\"AVAILABLE\"},\"first\":2})': {'type': 'id',\n   'generated': True,\n   'id': '$RXZlbnQ6YjE4NmMwYmUtMjEzOC00ZWExLWI2NmEtODJjOTg0ODY3OGI0.listings({\"filter\":{\"listingStatus\":\"AVAILABLE\"},\"first\":2})',\n   'typename': 'ListingConnection'},\n  'listings({\"filter\":{\"listingStatus\":\"SOLD\"},\"first\":2})': {'type': 'id',\n   'generated': True,\n   'id': '$RXZlbnQ6YjE4NmMwYmUtMjEzOC00ZWExLWI2NmEtODJjOTg0ODY3OGI0.listings({\"filter\":{\"listingStatus\":\"SOLD\"},\"first\":2})',\n   'typename': 'ListingConnection'},\n  'usersWithTicketAlerts({\"first\":8})': {'type': 'id',\n   'generated': True,\n   'id': '$RXZlbnQ6YjE4NmMwYmUtMjEzOC00ZWExLWI2NmEtODJjOTg0ODY3OGI0.usersWithTicketAlerts({\"first\":8})',\n   'typename': 'UserConnection'}},\n '$RXZlbnQ6YjE4NmMwYmUtMjEzOC00ZWExLWI2NmEtODJjOTg0ODY3OGI0.seoMetadata': {'title': None,\n  'description': None,\n  '__typename': 'SeoMetadata'},\n 'TG9jYXRpb246MzI3ODQ=': {'id': 'TG9jYXRpb246MzI3ODQ=',\n  'slug': 'wuppertal-tanztheater',\n  'name': 'Wuppertal Tanztheater',\n  'background': None,\n  'city': {'type': 'id',\n   'generated': False,\n   'id': 'Q2l0eTo0MDM=',\n   'typename': 'City'},\n  'country': {'type': 'id',\n   'generated': True,\n   'id': '$TG9jYXRpb246MzI3ODQ=.country',\n   'typename': 'Country'},\n  '__typename': 'Location'},\n 'Q2l0eTo0MDM=': {'id': 'Q2l0eTo0MDM=',\n  'slug': 'wuppertal',\n  'name': 'Wuppertal',\n  '__typename': 'City'},\n '$TG9jYXRpb246MzI3ODQ=.country': {'name': 'Germany', '__typename': 'Country'},\n '$RXZlbnQ6YjE4NmMwYmUtMjEzOC00ZWExLWI2NmEtODJjOTg0ODY3OGI0.types({\"first\":99}).edges.0': {'node': {'type': 'id',\n   'generated': False,\n   'id': 'RXZlbnRUeXBlOjE2MjM5NzY=',\n   'typename': 'EventType'},\n  '__typename': 'EventTypeEdge'},\n '$RXZlbnQ6YjE4NmMwYmUtMjEzOC00ZWExLWI2NmEtODJjOTg0ODY3OGI0.types({\"first\":99})': {'edges': [{'type': 'id',\n    'generated': True,\n    'id': '$RXZlbnQ6YjE4NmMwYmUtMjEzOC00ZWExLWI2NmEtODJjOTg0ODY3OGI0.types({\"first\":99}).edges.0',\n    'typename': 'EventTypeEdge'}],\n  '__typename': 'EventTypeConnection'},\n 'ROOT_QUERY': {'node({\"id\":\"RXZlbnRUeXBlOjE2MjM5NzY=\"})': {'type': 'id',\n   'generated': False,\n   'id': 'RXZlbnRUeXBlOjE2MjM5NzY=',\n   'typename': 'EventType'},\n  'node({\"id\":\"RXZlbnQ6YjE4NmMwYmUtMjEzOC00ZWExLWI2NmEtODJjOTg0ODY3OGI0\"})': {'type': 'id',\n   'generated': False,\n   'id': 'RXZlbnQ6YjE4NmMwYmUtMjEzOC00ZWExLWI2NmEtODJjOTg0ODY3OGI0',\n   'typename': 'ActiveEvent'}},\n '$RXZlbnRUeXBlOjE2MjM5NzY=.availableListings.edges.0.node.price.originalPrice': {'formattedAmount': '€50,00',\n  '__typename': 'Money'},\n '$RXZlbnRUeXBlOjE2MjM5NzY=.availableListings.edges.0.node.price': {'originalPrice': {'type': 'id',\n   'generated': True,\n   'id': '$RXZlbnRUeXBlOjE2MjM5NzY=.availableListings.edges.0.node.price.originalPrice',\n   'typename': 'Money'},\n  '__typename': 'ListingPrice'},\n '$RXZlbnRUeXBlOjE2MjM5NzY=.availableListings.edges.0.node': {'price': {'type': 'id',\n   'generated': True,\n   'id': '$RXZlbnRUeXBlOjE2MjM5NzY=.availableListings.edges.0.node.price',\n   'typename': 'ListingPrice'},\n  '__typename': 'PublicListing'},\n '$RXZlbnRUeXBlOjE2MjM5NzY=.availableListings.edges.0': {'node': {'type': 'id',\n   'generated': True,\n   'id': '$RXZlbnRUeXBlOjE2MjM5NzY=.availableListings.edges.0.node',\n   'typename': 'PublicListing'},\n  '__typename': 'ListingEdge'},\n '$RXZlbnRUeXBlOjE2MjM5NzY=.availableListings': {'edges': [{'type': 'id',\n    'generated': True,\n    'id': '$RXZlbnRUeXBlOjE2MjM5NzY=.availableListings.edges.0',\n    'typename': 'ListingEdge'}],\n  '__typename': 'ListingConnection'},\n '$RXZlbnQ6YjE4NmMwYmUtMjEzOC00ZWExLWI2NmEtODJjOTg0ODY3OGI0.types({\"filter\":{\"ticketCategory\":\"ENTRANCE\"},\"first\":99}).edges.0': {'node': {'type': 'id',\n   'generated': False,\n   'id': 'RXZlbnRUeXBlOjE2MjM5NzY=',\n   'typename': 'EventType'},\n  '__typename': 'EventTypeEdge'},\n '$RXZlbnQ6YjE4NmMwYmUtMjEzOC00ZWExLWI2NmEtODJjOTg0ODY3OGI0.types({\"filter\":{\"ticketCategory\":\"ENTRANCE\"},\"first\":99})': {'edges': [{'type': 'id',\n    'generated': True,\n    'id': '$RXZlbnQ6YjE4NmMwYmUtMjEzOC00ZWExLWI2NmEtODJjOTg0ODY3OGI0.types({\"filter\":{\"ticketCategory\":\"ENTRANCE\"},\"first\":99}).edges.0',\n    'typename': 'EventTypeEdge'}],\n  '__typename': 'EventTypeConnection'},\n '$RXZlbnQ6YjE4NmMwYmUtMjEzOC00ZWExLWI2NmEtODJjOTg0ODY3OGI0.types({\"filter\":{\"hasGroup\":false,\"ticketCategory\":\"NON_ENTRANCE\"},\"first\":99})': {'edges': [],\n  '__typename': 'EventTypeConnection'},\n '$RXZlbnQ6YjE4NmMwYmUtMjEzOC00ZWExLWI2NmEtODJjOTg0ODY3OGI0.listings({\"filter\":{\"listingStatus\":\"AVAILABLE\"},\"first\":2}).edges.0.node': {'seller': {'type': 'id',\n   'generated': False,\n   'id': 'VXNlcjo1MTAxNDU4',\n   'typename': 'PublicUser'},\n  '__typename': 'PublicListing'},\n '$RXZlbnQ6YjE4NmMwYmUtMjEzOC00ZWExLWI2NmEtODJjOTg0ODY3OGI0.listings({\"filter\":{\"listingStatus\":\"AVAILABLE\"},\"first\":2}).edges.0': {'node': {'type': 'id',\n   'generated': True,\n   'id': '$RXZlbnQ6YjE4NmMwYmUtMjEzOC00ZWExLWI2NmEtODJjOTg0ODY3OGI0.listings({\"filter\":{\"listingStatus\":\"AVAILABLE\"},\"first\":2}).edges.0.node',\n   'typename': 'PublicListing'},\n  '__typename': 'ListingEdge'},\n '$RXZlbnQ6YjE4NmMwYmUtMjEzOC00ZWExLWI2NmEtODJjOTg0ODY3OGI0.listings({\"filter\":{\"listingStatus\":\"AVAILABLE\"},\"first\":2})': {'edges': [{'type': 'id',\n    'generated': True,\n    'id': '$RXZlbnQ6YjE4NmMwYmUtMjEzOC00ZWExLWI2NmEtODJjOTg0ODY3OGI0.listings({\"filter\":{\"listingStatus\":\"AVAILABLE\"},\"first\":2}).edges.0',\n    'typename': 'ListingEdge'}],\n  '__typename': 'ListingConnection'},\n '$RXZlbnQ6YjE4NmMwYmUtMjEzOC00ZWExLWI2NmEtODJjOTg0ODY3OGI0.listings({\"filter\":{\"listingStatus\":\"SOLD\"},\"first\":2})': {'edges': [],\n  '__typename': 'ListingConnection'},\n '$RXZlbnQ6YjE4NmMwYmUtMjEzOC00ZWExLWI2NmEtODJjOTg0ODY3OGI0.usersWithTicketAlerts({\"first\":8})': {'edges': [],\n  '__typename': 'UserConnection'},\n 'TGlzdGluZzo0NjcyNDIw': {'id': 'TGlzdGluZzo0NjcyNDIw',\n  'hash': '7d835bcb0e',\n  'description': None,\n  'isPublic': True,\n  'event': {'type': 'id',\n   'generated': False,\n   'id': 'RXZlbnQ6YjE4NmMwYmUtMjEzOC00ZWExLWI2NmEtODJjOTg0ODY3OGI0',\n   'typename': 'ActiveEvent'},\n  'eventType': {'type': 'id',\n   'generated': False,\n   'id': 'RXZlbnRUeXBlOjE2MjM5NzY=',\n   'typename': 'EventType'},\n  'seller': {'type': 'id',\n   'generated': False,\n   'id': 'VXNlcjo1MTAxNDU4',\n   'typename': 'PublicUser'},\n  'numberOfTicketsInListing': 1,\n  'price': {'type': 'id',\n   'generated': True,\n   'id': '$TGlzdGluZzo0NjcyNDIw.price',\n   'typename': 'ListingPrice'},\n  '__typename': 'PublicListing'},\n '$TGlzdGluZzo0NjcyNDIw.price.totalPriceWithTransactionFee': {'formattedAmount': '€54,08',\n  '__typename': 'Money'},\n '$TGlzdGluZzo0NjcyNDIw.price': {'totalPriceWithTransactionFee': {'type': 'id',\n   'generated': True,\n   'id': '$TGlzdGluZzo0NjcyNDIw.price.totalPriceWithTransactionFee',\n   'typename': 'Money'},\n  '__typename': 'ListingPrice'},\n '$RXZlbnRUeXBlOjE2MjM5NzY=.listings({\"filter\":{\"listingStatus\":\"AVAILABLE\"},\"first\":50}).edges.0': {'node': {'type': 'id',\n   'generated': False,\n   'id': 'TGlzdGluZzo0NjcyNDIw',\n   'typename': 'PublicListing'},\n  '__typename': 'ListingEdge'},\n '$RXZlbnRUeXBlOjE2MjM5NzY=.listings({\"filter\":{\"listingStatus\":\"AVAILABLE\"},\"first\":50})': {'edges': [{'type': 'id',\n    'generated': True,\n    'id': '$RXZlbnRUeXBlOjE2MjM5NzY=.listings({\"filter\":{\"listingStatus\":\"AVAILABLE\"},\"first\":50}).edges.0',\n    'typename': 'ListingEdge'}],\n  'pageInfo': {'type': 'id',\n   'generated': True,\n   'id': '$RXZlbnRUeXBlOjE2MjM5NzY=.listings({\"filter\":{\"listingStatus\":\"AVAILABLE\"},\"first\":50}).pageInfo',\n   'typename': 'PageInfo'},\n  '__typename': 'ListingConnection'},\n '$RXZlbnRUeXBlOjE2MjM5NzY=.listings({\"filter\":{\"listingStatus\":\"AVAILABLE\"},\"first\":50}).pageInfo': {'endCursor': 'YXJyYXljb25uZWN0aW9uOjA=',\n  'hasNextPage': False,\n  '__typename': 'PageInfo'},\n '$RXZlbnRUeXBlOjE2MjM5NzY=.listings({\"filter\":{\"listingStatus\":\"RESERVED\"},\"first\":10})': {'edges': [],\n  'pageInfo': {'type': 'id',\n   'generated': True,\n   'id': '$RXZlbnRUeXBlOjE2MjM5NzY=.listings({\"filter\":{\"listingStatus\":\"RESERVED\"},\"first\":10}).pageInfo',\n   'typename': 'PageInfo'},\n  '__typename': 'ListingConnection'},\n '$RXZlbnRUeXBlOjE2MjM5NzY=.listings({\"filter\":{\"listingStatus\":\"RESERVED\"},\"first\":10}).pageInfo': {'endCursor': None,\n  'hasNextPage': False,\n  '__typename': 'PageInfo'}}"
     },
     "execution_count": 94,
     "metadata": {},
     "output_type": "execute_result"
    }
   ],
   "source": [
    "ldjson['props']['apolloState']"
   ]
  },
  {
   "cell_type": "code",
   "execution_count": 99,
   "metadata": {},
   "outputs": [],
   "source": [
    "\n",
    "urls = [ldjson['props']['apolloState'][x]['url'] for x in ldjson['props']['apolloState'].keys() if x.endswith('.uri')]"
   ]
  },
  {
   "cell_type": "code",
   "execution_count": 100,
   "metadata": {},
   "outputs": [
    {
     "name": "stdout",
     "output_type": "stream",
     "text": "['https://www.ticketswap.com/listing/the-weeknd-the-after-hours-tour/4626755/e7a67509a6?utm_campaign=publishedListingShare&utm_source=ticketswap&utm_medium=manualshare', 'https://www.ticketswap.com/listing/the-weeknd-the-after-hours-tour/4648025/5eb4d9ddf0?utm_campaign=publishedListingShare&utm_source=ticketswap&utm_medium=manualshare']\n"
    }
   ],
   "source": [
    "ticketUrls = [url for url in urls if 'utm_source=ticketswap' in url]\n",
    "print(ticketUrls)"
   ]
  },
  {
   "cell_type": "code",
   "execution_count": null,
   "metadata": {},
   "outputs": [],
   "source": []
  }
 ],
 "metadata": {
  "kernelspec": {
   "display_name": "Python 3",
   "language": "python",
   "name": "python3"
  },
  "language_info": {
   "codemirror_mode": {
    "name": "ipython",
    "version": 3
   },
   "file_extension": ".py",
   "mimetype": "text/x-python",
   "name": "python",
   "nbconvert_exporter": "python",
   "pygments_lexer": "ipython3",
   "version": "3.8.1-final"
  }
 },
 "nbformat": 4,
 "nbformat_minor": 2
}