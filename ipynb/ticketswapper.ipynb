{
 "cells": [
  {
   "cell_type": "code",
   "execution_count": 1,
   "metadata": {},
   "outputs": [],
   "source": [
    "# Load dependencies\n",
    "from bs4 import BeautifulSoup\n",
    "import requests\n",
    "import json\n",
    "import time\n",
    "import random\n",
    "import webbrowser\n",
    "import sys\n",
    "\n",
    "sys.setrecursionlimit(9999)"
   ]
  },
  {
   "cell_type": "code",
   "execution_count": null,
   "metadata": {},
   "outputs": [],
   "source": [
    "# Get the function parameters from terminal\n",
    "# url = sys.argv[1]\n",
    "# category = int(sys.argv[2])"
   ]
  },
  {
   "cell_type": "code",
   "execution_count": 3,
   "metadata": {},
   "outputs": [],
   "source": [
    "def check_ticketswap_offers(url, category, counter = 0):\n",
    "    page = requests.get(url)\n",
    "    soup = BeautifulSoup(page.text, 'html.parser')\n",
    "    ldjson_soup = soup.findAll(\"script\", attrs = {'type':\"application/json\"})\n",
    "    ldjson_str = ldjson_soup[0].text\n",
    "    ldjson = json.loads(ldjson_str)\n",
    "    if int(ldjson['props']['pageProps']['data']['node']['availableTicketsCount']) < 1:\n",
    "        seconds = random.randrange (75, 125) / 100\n",
    "        time.sleep(seconds)\n",
    "        counter += 1\n",
    "        print(\"Try %s\" % counter)\n",
    "        return check_ticketswap_offers(url, category, counter)\n",
    "    url_open = ldjson['props']['pageProps']['data']['node']['event']['types']['edges'][category-1]['node']['availableListings']['edges'][0]['node']['uri']['url']\n",
    "    webbrowser.open_new(url_open)\n",
    "    \n",
    "#Tip: use ldjson.keys() to see set of keys on the highest level"
   ]
  },
  {
   "cell_type": "code",
   "execution_count": null,
   "metadata": {},
   "outputs": [],
   "source": [
    "#New issue: ticket type is encoded and no longer in json dictionary format:\n",
    "#ldjson['props']['pageProps']['data']['node']['event']['types']['edges'][1]\n",
    "#TODO: come up with a way to scan ticket types and select via prompt to create dynamic code"
   ]
  },
  {
   "cell_type": "code",
   "execution_count": 4,
   "metadata": {},
   "outputs": [],
   "source": [
    "# Load & test non sold-out url\n",
    "url = \"https://www.ticketswap.uk/event/amon-amarth-berserker-world-tour-2019/floor-tickets/611fe69e-7ad1-4a6c-a0a4-ca999deca214/1302177\"\n",
    "check_ticketswap_offers(url, 1)"
   ]
  },
  {
   "cell_type": "code",
   "execution_count": 6,
   "metadata": {},
   "outputs": [],
   "source": [
    "# Load & test sold-out url\n",
    "url = \"https://www.ticketswap.uk/event/slipknot-behemoth/floor/eb56aa8a-324c-4822-bc8e-33ed6e101598/1412859\"\n",
    "check_ticketswap_offers(url, 1)"
   ]
  }
 ],
 "metadata": {
  "kernelspec": {
   "display_name": "Python 3",
   "language": "python",
   "name": "python3"
  },
  "language_info": {
   "codemirror_mode": {
    "name": "ipython",
    "version": 3
   },
   "file_extension": ".py",
   "mimetype": "text/x-python",
   "name": "python",
   "nbconvert_exporter": "python",
   "pygments_lexer": "ipython3",
   "version": "3.6.8"
  }
 },
 "nbformat": 4,
 "nbformat_minor": 2
}
