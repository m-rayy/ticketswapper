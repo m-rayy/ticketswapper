{
 "cells": [
  {
   "cell_type": "code",
   "execution_count": 1,
   "metadata": {},
   "outputs": [],
   "source": [
    "# Load dependencies\n",
    "from bs4 import BeautifulSoup\n",
    "import requests\n",
    "import json\n",
    "import time\n",
    "import random\n",
    "import webbrowser\n",
    "import sys\n",
    "\n",
    "sys.setrecursionlimit(9999)"
   ]
  },
  {
   "cell_type": "code",
   "execution_count": 2,
   "metadata": {},
   "outputs": [],
   "source": [
    "# Get the function parameters from terminal\n",
    "# url = sys.argv[1]\n",
    "# category = int(sys.argv[2])"
   ]
  },
  {
   "cell_type": "code",
   "execution_count": 3,
   "metadata": {},
   "outputs": [],
   "source": [
    "# Load url\n",
    "url = \"https://www.ticketswap.com/event/queen-adam-lambert-the-rhapsody-tour/23a41750-3429-4ae9-9727-2ec36f43bf4f\""
   ]
  },
  {
   "cell_type": "code",
   "execution_count": 4,
   "metadata": {},
   "outputs": [],
   "source": [
    "def check_ticketswap_offers(url, category, counter = 0):\n",
    "    page = requests.get(url)\n",
    "    soup = BeautifulSoup(page.text, 'html.parser')\n",
    "    ldjson_soup = soup.findAll(\"script\", attrs = {'type':\"application/json\"})\n",
    "    ldjson_str = ldjson_soup[0].text\n",
    "    ldjson = json.loads(ldjson_str)\n",
    "    # Check it there are any available tickets:\n",
    "    if ldjson['props']['pageProps']['event']['availableTicketsCount'] < 1:\n",
    "        seconds = random.randrange (75, 125) / 100\n",
    "        time.sleep(seconds)\n",
    "        counter += 1\n",
    "        print(\"Try %s\" % counter)\n",
    "        # If so, return the avaiable ticket (listing) url:\n",
    "        return check_ticketswap_offers(url, category, counter)\n",
    "    # Open browser with url (+ category index)\n",
    "    url_open = ldjson['props']['pageProps']['data']['node']['event']['types']['edges'][category-1]['node']['availableListings']['edges'][0]['node']['uri']['url']\n",
    "    webbrowser.open_new(url_open)\n",
    "    \n",
    "#Tip: use ldjson.keys() to see set of keys on the highest level"
   ]
  },
  {
   "cell_type": "code",
   "execution_count": 12,
   "metadata": {},
   "outputs": [],
   "source": [
    "#TODO: come up with a way to scan ticket types and select via prompt to create dynamic code"
   ]
  },
  {
   "cell_type": "code",
   "execution_count": 22,
   "metadata": {},
   "outputs": [
    {
     "name": "stdout",
     "output_type": "stream",
     "text": "Try 1\nTry 2\nTry 3\nTry 4\nTry 5\nTry 6\nTry 7\nTry 8\nTry 9\nTry 10\nTry 11\nTry 12\nTry 13\nTry 14\nTry 15\nTry 16\nTry 17\nTry 18\nTry 19\nTry 20\nTry 21\nTry 22\nTry 23\nTry 24\nTry 25\nTry 26\nTry 27\n"
    }
   ],
   "source": [
    "# Load & test url:\n",
    "check_ticketswap_offers(url, 1)"
   ]
  },
  {
   "cell_type": "markdown",
   "metadata": {},
   "source": [
    "Top-page research:"
   ]
  },
  {
   "cell_type": "code",
   "execution_count": 33,
   "metadata": {},
   "outputs": [],
   "source": [
    "# url = 'https://www.ticketswap.com/event/the-weeknd-the-after-hours-tour/ea3cfc09-a4c7-44d1-afb3-07aac5e14551'\n",
    "url = 'https://www.ticketswap.com/event/pina-bausch-die-sieben-todsunden/regular-tickets/b186c0be-2138-4ea1-b66a-82c9848678b4/1623976'\n",
    "page = requests.get(url)\n",
    "soup = BeautifulSoup(page.text, 'html.parser')\n",
    "ldjson_soup = soup.findAll(\"script\", attrs = {'type':\"application/json\"})\n",
    "ldjson_str = ldjson_soup[0].text\n",
    "ldjson = json.loads(ldjson_str)"
   ]
  },
  {
   "cell_type": "code",
   "execution_count": 34,
   "metadata": {},
   "outputs": [],
   "source": [
    "\n",
    "urls = [ldjson['props']['apolloState'][x]['url'] for x in ldjson['props']['apolloState'].keys() if x.endswith('.uri')]"
   ]
  },
  {
   "cell_type": "code",
   "execution_count": 35,
   "metadata": {},
   "outputs": [
    {
     "name": "stdout",
     "output_type": "stream",
     "text": "[]\n"
    }
   ],
   "source": [
    "ticketUrls = [url for url in urls if 'utm_source=ticketswap' in url]\n",
    "print(ticketUrls)"
   ]
  },
  {
   "cell_type": "code",
   "execution_count": 36,
   "metadata": {},
   "outputs": [
    {
     "name": "stdout",
     "output_type": "stream",
     "text": "RXZlbnRUeXBlOjE2MjM5NzY=\nVXNlcjo1MTAxNDU4\n$RXZlbnRUeXBlOjE2MjM5NzY=.listings({\"filter\":{\"listingStatus\":\"AVAILABLE\"},\"first\":2}).edges.0.node\n$RXZlbnRUeXBlOjE2MjM5NzY=.listings({\"filter\":{\"listingStatus\":\"AVAILABLE\"},\"first\":2}).edges.0\n$RXZlbnRUeXBlOjE2MjM5NzY=.listings({\"filter\":{\"listingStatus\":\"AVAILABLE\"},\"first\":2})\n$RXZlbnRUeXBlOjE2MjM5NzY=.listings({\"filter\":{\"listingStatus\":\"SOLD\"},\"first\":2})\n$RXZlbnRUeXBlOjE2MjM5NzY=.ticketAlerts({\"first\":8})\nRXZlbnQ6YjE4NmMwYmUtMjEzOC00ZWExLWI2NmEtODJjOTg0ODY3OGI0\n$RXZlbnQ6YjE4NmMwYmUtMjEzOC00ZWExLWI2NmEtODJjOTg0ODY3OGI0.seoMetadata\nTG9jYXRpb246MzI3ODQ=\nQ2l0eTo0MDM=\n$TG9jYXRpb246MzI3ODQ=.country\n$RXZlbnQ6YjE4NmMwYmUtMjEzOC00ZWExLWI2NmEtODJjOTg0ODY3OGI0.types({\"first\":99}).edges.0\n$RXZlbnQ6YjE4NmMwYmUtMjEzOC00ZWExLWI2NmEtODJjOTg0ODY3OGI0.types({\"first\":99})\nROOT_QUERY\n$RXZlbnRUeXBlOjE2MjM5NzY=.availableListings.edges.0.node.price.originalPrice\n$RXZlbnRUeXBlOjE2MjM5NzY=.availableListings.edges.0.node.price\n$RXZlbnRUeXBlOjE2MjM5NzY=.availableListings.edges.0.node\n$RXZlbnRUeXBlOjE2MjM5NzY=.availableListings.edges.0\n$RXZlbnRUeXBlOjE2MjM5NzY=.availableListings\n$RXZlbnQ6YjE4NmMwYmUtMjEzOC00ZWExLWI2NmEtODJjOTg0ODY3OGI0.types({\"filter\":{\"ticketCategory\":\"ENTRANCE\"},\"first\":99}).edges.0\n$RXZlbnQ6YjE4NmMwYmUtMjEzOC00ZWExLWI2NmEtODJjOTg0ODY3OGI0.types({\"filter\":{\"ticketCategory\":\"ENTRANCE\"},\"first\":99})\n$RXZlbnQ6YjE4NmMwYmUtMjEzOC00ZWExLWI2NmEtODJjOTg0ODY3OGI0.types({\"filter\":{\"hasGroup\":false,\"ticketCategory\":\"NON_ENTRANCE\"},\"first\":99})\n$RXZlbnQ6YjE4NmMwYmUtMjEzOC00ZWExLWI2NmEtODJjOTg0ODY3OGI0.listings({\"filter\":{\"listingStatus\":\"AVAILABLE\"},\"first\":2}).edges.0.node\n$RXZlbnQ6YjE4NmMwYmUtMjEzOC00ZWExLWI2NmEtODJjOTg0ODY3OGI0.listings({\"filter\":{\"listingStatus\":\"AVAILABLE\"},\"first\":2}).edges.0\n$RXZlbnQ6YjE4NmMwYmUtMjEzOC00ZWExLWI2NmEtODJjOTg0ODY3OGI0.listings({\"filter\":{\"listingStatus\":\"AVAILABLE\"},\"first\":2})\n$RXZlbnQ6YjE4NmMwYmUtMjEzOC00ZWExLWI2NmEtODJjOTg0ODY3OGI0.listings({\"filter\":{\"listingStatus\":\"SOLD\"},\"first\":2})\n$RXZlbnQ6YjE4NmMwYmUtMjEzOC00ZWExLWI2NmEtODJjOTg0ODY3OGI0.usersWithTicketAlerts({\"first\":8})\nTGlzdGluZzo0NjcyNDIw\n$TGlzdGluZzo0NjcyNDIw.price.totalPriceWithTransactionFee\n$TGlzdGluZzo0NjcyNDIw.price\n$RXZlbnRUeXBlOjE2MjM5NzY=.listings({\"filter\":{\"listingStatus\":\"AVAILABLE\"},\"first\":50}).edges.0\n$RXZlbnRUeXBlOjE2MjM5NzY=.listings({\"filter\":{\"listingStatus\":\"AVAILABLE\"},\"first\":50})\n$RXZlbnRUeXBlOjE2MjM5NzY=.listings({\"filter\":{\"listingStatus\":\"AVAILABLE\"},\"first\":50}).pageInfo\n$RXZlbnRUeXBlOjE2MjM5NzY=.listings({\"filter\":{\"listingStatus\":\"RESERVED\"},\"first\":10})\n$RXZlbnRUeXBlOjE2MjM5NzY=.listings({\"filter\":{\"listingStatus\":\"RESERVED\"},\"first\":10}).pageInfo\n"
    }
   ],
   "source": [
    "for i in ldjson['props']['apolloState']:\n",
    "    print(i)"
   ]
  },
  {
   "cell_type": "code",
   "execution_count": 42,
   "metadata": {},
   "outputs": [
    {
     "data": {
      "text/plain": "{'totalPriceWithTransactionFee': {'type': 'id',\n  'generated': True,\n  'id': '$TGlzdGluZzo0NjcyNDIw.price.totalPriceWithTransactionFee',\n  'typename': 'Money'},\n '__typename': 'ListingPrice'}"
     },
     "execution_count": 42,
     "metadata": {},
     "output_type": "execute_result"
    }
   ],
   "source": [
    "ldjson['props']['apolloState']['$TGlzdGluZzo0NjcyNDIw.price']"
   ]
  },
  {
   "cell_type": "markdown",
   "metadata": {},
   "source": [
    "Sub-page research:"
   ]
  },
  {
   "cell_type": "code",
   "execution_count": 26,
   "metadata": {},
   "outputs": [],
   "source": [
    "url = 'https://www.ticketswap.com/event/the-weeknd-the-after-hours-tour/upper-rank/ea3cfc09-a4c7-44d1-afb3-07aac5e14551/1615090'\n",
    "page = requests.get(url)\n",
    "soup = BeautifulSoup(page.text, 'html.parser')\n",
    "ldjson_soup = soup.findAll(\"script\", attrs = {'type':\"application/json\"})\n",
    "ldjson_str = ldjson_soup[0].text\n",
    "ldjson = json.loads(ldjson_str)"
   ]
  },
  {
   "cell_type": "code",
   "execution_count": 27,
   "metadata": {},
   "outputs": [
    {
     "data": {
      "text/plain": "dict_keys(['props', 'page', 'query', 'buildId', 'assetPrefix', 'runtimeConfig', 'isFallback'])"
     },
     "execution_count": 27,
     "metadata": {},
     "output_type": "execute_result"
    }
   ],
   "source": [
    "ldjson.keys()"
   ]
  },
  {
   "cell_type": "code",
   "execution_count": 28,
   "metadata": {},
   "outputs": [
    {
     "data": {
      "text/plain": "ilableListings.edges.0.node.price': {'originalPrice': {'type': 'id',\n    'generated': True,\n    'id': '$RXZlbnRUeXBlOjE2MTUwOTI=.availableListings.edges.0.node.price.originalPrice',\n    'typename': 'Money'},\n   '__typename': 'ListingPrice'},\n  '$RXZlbnRUeXBlOjE2MTUwOTI=.availableListings.edges.0.node': {'price': {'type': 'id',\n    'generated': True,\n    'id': '$RXZlbnRUeXBlOjE2MTUwOTI=.availableListings.edges.0.node.price',\n    'typename': 'ListingPrice'},\n   '__typename': 'PublicListing'},\n  '$RXZlbnRUeXBlOjE2MTUwOTI=.availableListings.edges.0': {'node': {'type': 'id',\n    'generated': True,\n    'id': '$RXZlbnRUeXBlOjE2MTUwOTI=.availableListings.edges.0.node',\n    'typename': 'PublicListing'},\n   '__typename': 'ListingEdge'},\n  '$RXZlbnRUeXBlOjE2MTUwOTI=.availableListings': {'edges': [{'type': 'id',\n     'generated': True,\n     'id': '$RXZlbnRUeXBlOjE2MTUwOTI=.availableListings.edges.0',\n     'typename': 'ListingEdge'}],\n   '__typename': 'ListingConnection'},\n  '$RXZlbnRUeXBlOjE2MTUwOTA=.availableListings.edges.0.node.price.originalPrice': {'formattedAmount': '€69,65',\n   '__typename': 'Money'},\n  '$RXZlbnRUeXBlOjE2MTUwOTA=.availableListings.edges.0.node.price': {'originalPrice': {'type': 'id',\n    'generated': True,\n    'id': '$RXZlbnRUeXBlOjE2MTUwOTA=.availableListings.edges.0.node.price.originalPrice',\n    'typename': 'Money'},\n   '__typename': 'ListingPrice'},\n  '$RXZlbnRUeXBlOjE2MTUwOTA=.availableListings.edges.0.node': {'price': {'type': 'id',\n    'generated': True,\n    'id': '$RXZlbnRUeXBlOjE2MTUwOTA=.availableListings.edges.0.node.price',\n    'typename': 'ListingPrice'},\n   '__typename': 'PublicListing'},\n  '$RXZlbnRUeXBlOjE2MTUwOTA=.availableListings.edges.0': {'node': {'type': 'id',\n    'generated': True,\n    'id': '$RXZlbnRUeXBlOjE2MTUwOTA=.availableListings.edges.0.node',\n    'typename': 'PublicListing'},\n   '__typename': 'ListingEdge'},\n  '$RXZlbnRUeXBlOjE2MTUwOTA=.availableListings': {'edges': [{'type': 'id',\n     'generated': True,\n     'id': '$RXZlbnRUeXBlOjE2MTUwOTA=.availableListings.edges.0',\n     'typename': 'ListingEdge'}],\n   '__typename': 'ListingConnection'},\n  '$RXZlbnRUeXBlOjE2MTUwOTM=.availableListings': {'edges': [],\n   '__typename': 'ListingConnection'},\n  '$RXZlbnQ6ZWEzY2ZjMDktYTRjNy00NGQxLWFmYjMtMDdhYWM1ZTE0NTUx.types({\"filter\":{\"ticketCategory\":\"ENTRANCE\"},\"first\":99}).edges.0': {'node': {'type': 'id',\n    'generated': False,\n    'id': 'RXZlbnRUeXBlOjE2MTUwOTE=',\n    'typename': 'EventType'},\n   '__typename': 'EventTypeEdge'},\n  '$RXZlbnQ6ZWEzY2ZjMDktYTRjNy00NGQxLWFmYjMtMDdhYWM1ZTE0NTUx.types({\"filter\":{\"ticketCategory\":\"ENTRANCE\"},\"first\":99}).edges.1': {'node': {'type': 'id',\n    'generated': False,\n    'id': 'RXZlbnRUeXBlOjE2MTUwOTI=',\n    'typename': 'EventType'},\n   '__typename': 'EventTypeEdge'},\n  '$RXZlbnQ6ZWEzY2ZjMDktYTRjNy00NGQxLWFmYjMtMDdhYWM1ZTE0NTUx.types({\"filter\":{\"ticketCategory\":\"ENTRANCE\"},\"first\":99}).edges.2': {'node': {'type': 'id',\n    'generated': False,\n    'id': 'RXZlbnRUeXBlOjE2MTUwOTA=',\n    'typename': 'EventType'},\n   '__typename': 'EventTypeEdge'},\n  '$RXZlbnQ6ZWEzY2ZjMDktYTRjNy00NGQxLWFmYjMtMDdhYWM1ZTE0NTUx.types({\"filter\":{\"ticketCategory\":\"ENTRANCE\"},\"first\":99}).edges.3': {'node': {'type': 'id',\n    'generated': False,\n    'id': 'RXZlbnRUeXBlOjE2MTUwOTM=',\n    'typename': 'EventType'},\n   '__typename': 'EventTypeEdge'},\n  '$RXZlbnQ6ZWEzY2ZjMDktYTRjNy00NGQxLWFmYjMtMDdhYWM1ZTE0NTUx.types({\"filter\":{\"ticketCategory\":\"ENTRANCE\"},\"first\":99})': {'edges': [{'type': 'id',\n     'generated': True,\n     'id': '$RXZlbnQ6ZWEzY2ZjMDktYTRjNy00NGQxLWFmYjMtMDdhYWM1ZTE0NTUx.types({\"filter\":{\"ticketCategory\":\"ENTRANCE\"},\"first\":99}).edges.0',\n     'typename': 'EventTypeEdge'},\n    {'type': 'id',\n     'generated': True,\n     'id': '$RXZlbnQ6ZWEzY2ZjMDktYTRjNy00NGQxLWFmYjMtMDdhYWM1ZTE0NTUx.types({\"filter\":{\"ticketCategory\":\"ENTRANCE\"},\"first\":99}).edges.1',\n     'typename': 'EventTypeEdge'},\n    {'type': 'id',\n     'generated': True,\n     'id': '$RXZlbnQ6ZWEzY2ZjMDktYTRjNy00NGQxLWFmYjMtMDdhYWM1ZTE0NTUx.types({\"filter\":{\"ticketCategory\":\"ENTRANCE\"},\"first\":99}).edges.2',\n     'typename': 'EventTypeEdge'},\n    {'type': 'id',\n     'generated': True,\n     'id': '$RXZlbnQ6ZWEzY2ZjMDktYTRjNy00NGQxLWFmYjMtMDdhYWM1ZTE0NTUx.types({\"filter\":{\"ticketCategory\":\"ENTRANCE\"},\"first\":99}).edges.3',\n     'typename': 'EventTypeEdge'}],\n   '__typename': 'EventTypeConnection'},\n  '$RXZlbnQ6ZWEzY2ZjMDktYTRjNy00NGQxLWFmYjMtMDdhYWM1ZTE0NTUx.types({\"filter\":{\"hasGroup\":false,\"ticketCategory\":\"NON_ENTRANCE\"},\"first\":99})': {'edges': [],\n   '__typename': 'EventTypeConnection'},\n  'VXNlcjo1MDU2Mzc2': {'id': 'VXNlcjo1MDU2Mzc2',\n   'avatar': 'https://cdn.ticketswap.com/public/202003/47e5e6f4-a741-4ae9-b6e8-c4c8ef27dbf7.69143b0e252203e9275e7d7bae7d63be3f2145f0.jpeg',\n   '__typename': 'PublicUser'},\n  '$RXZlbnQ6ZWEzY2ZjMDktYTRjNy00NGQxLWFmYjMtMDdhYWM1ZTE0NTUx.listings({\"filter\":{\"listingStatus\":\"AVAILABLE\"},\"first\":2}).edges.0.node': {'seller': {'type': 'id',\n    'generated': False,\n    'id': 'VXNlcjo1MDU2Mzc2',\n    'typename': 'PublicUser'},\n   '__typename': 'PublicListing'},\n  '$RXZlbnQ6ZWEzY2ZjMDktYTRjNy00NGQxLWFmYjMtMDdhYWM1ZTE0NTUx.listings({\"filter\":{\"listingStatus\":\"AVAILABLE\"},\"first\":2}).edges.0': {'node': {'type': 'id',\n    'generated': True,\n    'id': '$RXZlbnQ6ZWEzY2ZjMDktYTRjNy00NGQxLWFmYjMtMDdhYWM1ZTE0NTUx.listings({\"filter\":{\"listingStatus\":\"AVAILABLE\"},\"first\":2}).edges.0.node',\n    'typename': 'PublicListing'},\n   '__typename': 'ListingEdge'},\n  '$RXZlbnQ6ZWEzY2ZjMDktYTRjNy00NGQxLWFmYjMtMDdhYWM1ZTE0NTUx.listings({\"filter\":{\"listingStatus\":\"AVAILABLE\"},\"first\":2}).edges.1.node': {'seller': {'type': 'id',\n    'generated': False,\n    'id': 'VXNlcjo5NjI5MzA=',\n    'typename': 'PublicUser'},\n   '__typename': 'PublicListing'},\n  '$RXZlbnQ6ZWEzY2ZjMDktYTRjNy00NGQxLWFmYjMtMDdhYWM1ZTE0NTUx.listings({\"filter\":{\"listingStatus\":\"AVAILABLE\"},\"first\":2}).edges.1': {'node': {'type': 'id',\n    'generated': True,\n    'id': '$RXZlbnQ6ZWEzY2ZjMDktYTRjNy00NGQxLWFmYjMtMDdhYWM1ZTE0NTUx.listings({\"filter\":{\"listingStatus\":\"AVAILABLE\"},\"first\":2}).edges.1.node',\n    'typename': 'PublicListing'},\n   '__typename': 'ListingEdge'},\n  '$RXZlbnQ6ZWEzY2ZjMDktYTRjNy00NGQxLWFmYjMtMDdhYWM1ZTE0NTUx.listings({\"filter\":{\"listingStatus\":\"AVAILABLE\"},\"first\":2})': {'edges': [{'type': 'id',\n     'generated': True,\n     'id': '$RXZlbnQ6ZWEzY2ZjMDktYTRjNy00NGQxLWFmYjMtMDdhYWM1ZTE0NTUx.listings({\"filter\":{\"listingStatus\":\"AVAILABLE\"},\"first\":2}).edges.0',\n     'typename': 'ListingEdge'},\n    {'type': 'id',\n     'generated': True,\n     'id': '$RXZlbnQ6ZWEzY2ZjMDktYTRjNy00NGQxLWFmYjMtMDdhYWM1ZTE0NTUx.listings({\"filter\":{\"listingStatus\":\"AVAILABLE\"},\"first\":2}).edges.1',\n     'typename': 'ListingEdge'}],\n   '__typename': 'ListingConnection'},\n  'VXNlcjoxNjc3ODUw': {'id': 'VXNlcjoxNjc3ODUw',\n   'avatar': 'https://cdn.ticketswap.com/public/201806/2c6804eb-dbcd-4cdc-99d9-deb47ac33276.jpeg',\n   '__typename': 'PublicUser'},\n  '$RXZlbnQ6ZWEzY2ZjMDktYTRjNy00NGQxLWFmYjMtMDdhYWM1ZTE0NTUx.listings({\"filter\":{\"listingStatus\":\"SOLD\"},\"first\":2}).edges.0.node': {'seller': {'type': 'id',\n    'generated': False,\n    'id': 'VXNlcjoxNjc3ODUw',\n    'typename': 'PublicUser'},\n   '__typename': 'PublicListing'},\n  '$RXZlbnQ6ZWEzY2ZjMDktYTRjNy00NGQxLWFmYjMtMDdhYWM1ZTE0NTUx.listings({\"filter\":{\"listingStatus\":\"SOLD\"},\"first\":2}).edges.0': {'node': {'type': 'id',\n    'generated': True,\n    'id': '$RXZlbnQ6ZWEzY2ZjMDktYTRjNy00NGQxLWFmYjMtMDdhYWM1ZTE0NTUx.listings({\"filter\":{\"listingStatus\":\"SOLD\"},\"first\":2}).edges.0.node',\n    'typename': 'PublicListing'},\n   '__typename': 'ListingEdge'},\n  '$RXZlbnQ6ZWEzY2ZjMDktYTRjNy00NGQxLWFmYjMtMDdhYWM1ZTE0NTUx.listings({\"filter\":{\"listingStatus\":\"SOLD\"},\"first\":2}).edges.1.node': {'seller': {'type': 'id',\n    'generated': False,\n    'id': 'VXNlcjo1MDc1MDkw',\n    'typename': 'PublicUser'},\n   '__typename': 'PublicListing'},\n  '$RXZlbnQ6ZWEzY2ZjMDktYTRjNy00NGQxLWFmYjMtMDdhYWM1ZTE0NTUx.listings({\"filter\":{\"listingStatus\":\"SOLD\"},\"first\":2}).edges.1': {'node': {'type': 'id',\n    'generated': True,\n    'id': '$RXZlbnQ6ZWEzY2ZjMDktYTRjNy00NGQxLWFmYjMtMDdhYWM1ZTE0NTUx.listings({\"filter\":{\"listingStatus\":\"SOLD\"},\"first\":2}).edges.1.node',\n    'typename': 'PublicListing'},\n   '__typename': 'ListingEdge'},\n  '$RXZlbnQ6ZWEzY2ZjMDktYTRjNy00NGQxLWFmYjMtMDdhYWM1ZTE0NTUx.listings({\"filter\":{\"listingStatus\":\"SOLD\"},\"first\":2})': {'edges': [{'type': 'id',\n     'generated': True,\n     'id': '$RXZlbnQ6ZWEzY2ZjMDktYTRjNy00NGQxLWFmYjMtMDdhYWM1ZTE0NTUx.listings({\"filter\":{\"listingStatus\":\"SOLD\"},\"first\":2}).edges.0',\n     'typename': 'ListingEdge'},\n    {'type': 'id',\n     'generated': True,\n     'id': '$RXZlbnQ6ZWEzY2ZjMDktYTRjNy00NGQxLWFmYjMtMDdhYWM1ZTE0NTUx.listings({\"filter\":{\"listingStatus\":\"SOLD\"},\"first\":2}).edges.1',\n     'typename': 'ListingEdge'}],\n   '__typename': 'ListingConnection'},\n  'VXNlcjo4NjkwMTQ=': {'id': 'VXNlcjo4NjkwMTQ=',\n   'avatar': 'https://cdn.ticketswap.com/public/201806/0d44044d-a5b7-4a99-ac2b-ce4e87d35a07.jpeg',\n   '__typename': 'PublicUser'},\n  '$RXZlbnQ6ZWEzY2ZjMDktYTRjNy00NGQxLWFmYjMtMDdhYWM1ZTE0NTUx.usersWithTicketAlerts({\"first\":8}).edges.0': {'node': {'type': 'id',\n    'generated': False,\n    'id': 'VXNlcjo4NjkwMTQ=',\n    'typename': 'PublicUser'},\n   '__typename': 'UserEdge'},\n  'VXNlcjo1MDYxMjI1': {'id': 'VXNlcjo1MDYxMjI1',\n   'avatar': 'https://cdn.ticketswap.com/static/images/avatar-unknown.png',\n   '__typename': 'PublicUser'},\n  '$RXZlbnQ6ZWEzY2ZjMDktYTRjNy00NGQxLWFmYjMtMDdhYWM1ZTE0NTUx.usersWithTicketAlerts({\"first\":8}).edges.1': {'node': {'type': 'id',\n    'generated': False,\n    'id': 'VXNlcjo1MDYxMjI1',\n    'typename': 'PublicUser'},\n   '__typename': 'UserEdge'},\n  'VXNlcjoyMjM5Mjkx': {'id': 'VXNlcjoyMjM5Mjkx',\n   'avatar': 'https://cdn.ticketswap.com/public/201804/0c5ad8e9-fdeb-4035-8d54-61add5d707a8.3cf7ee9564580143c06f1e62203f2eaf2a034f44.png',\n   '__typename': 'PublicUser'},\n  '$RXZlbnQ6ZWEzY2ZjMDktYTRjNy00NGQxLWFmYjMtMDdhYWM1ZTE0NTUx.usersWithTicketAlerts({\"first\":8}).edges.2': {'node': {'type': 'id',\n    'generated': False,\n    'id': 'VXNlcjoyMjM5Mjkx',\n    'typename': 'PublicUser'},\n   '__typename': 'UserEdge'},\n  'VXNlcjo0ODI3NzQ4': {'id': 'VXNlcjo0ODI3NzQ4',\n   'avatar': 'https://cdn.ticketswap.com/static/images/avatar-unknown.png',\n   '__typename': 'PublicUser'},\n  '$RXZlbnQ6ZWEzY2ZjMDktYTRjNy00NGQxLWFmYjMtMDdhYWM1ZTE0NTUx.usersWithTicketAlerts({\"first\":8}).edges.3': {'node': {'type': 'id',\n    'generated': False,\n    'id': 'VXNlcjo0ODI3NzQ4',\n    'typename': 'PublicUser'},\n   '__typename': 'UserEdge'},\n  'VXNlcjoxNDI4NDY5': {'id': 'VXNlcjoxNDI4NDY5',\n   'avatar': 'https://cdn.ticketswap.com/public/201806/7bfa0ec0-4d8b-472d-b13c-c91ea2df2859.jpeg',\n   '__typename': 'PublicUser'},\n  '$RXZlbnQ6ZWEzY2ZjMDktYTRjNy00NGQxLWFmYjMtMDdhYWM1ZTE0NTUx.usersWithTicketAlerts({\"first\":8}).edges.4': {'node': {'type': 'id',\n    'generated': False,\n    'id': 'VXNlcjoxNDI4NDY5',\n    'typename': 'PublicUser'},\n   '__typename': 'UserEdge'},\n  'VXNlcjoxNDA1OTgy': {'id': 'VXNlcjoxNDA1OTgy',\n   'avatar': 'https://cdn.ticketswap.com/public/201911/5bc84b5c-043c-45bd-b395-51029dec842b.f8985c7a58cfb0cc6b58e48ab34b6562fddf2f46.jpeg',\n   '__typename': 'PublicUser'},\n  '$RXZlbnQ6ZWEzY2ZjMDktYTRjNy00NGQxLWFmYjMtMDdhYWM1ZTE0NTUx.usersWithTicketAlerts({\"first\":8}).edges.5': {'node': {'type': 'id',\n    'generated': False,\n    'id': 'VXNlcjoxNDA1OTgy',\n    'typename': 'PublicUser'},\n   '__typename': 'UserEdge'},\n  'VXNlcjoyNzYwNTQ=': {'id': 'VXNlcjoyNzYwNTQ=',\n   'avatar': 'https://cdn.ticketswap.com/public/201910/c4239e35-f1c4-4ab0-8f89-7bd220c7c8b6.jpeg',\n   '__typename': 'PublicUser'},\n  '$RXZlbnQ6ZWEzY2ZjMDktYTRjNy00NGQxLWFmYjMtMDdhYWM1ZTE0NTUx.usersWithTicketAlerts({\"first\":8}).edges.6': {'node': {'type': 'id',\n    'generated': False,\n    'id': 'VXNlcjoyNzYwNTQ=',\n    'typename': 'PublicUser'},\n   '__typename': 'UserEdge'},\n  'VXNlcjoyMTU4MzUx': {'id': 'VXNlcjoyMTU4MzUx',\n   'avatar': 'https://cdn.ticketswap.com/public/201804/3eb3d4f1-36df-4641-b0c3-9c23b5bb9edf.f9dc31646150b46eb8684718013e9d62d2dc4930.png',\n   '__typename': 'PublicUser'},\n  '$RXZlbnQ6ZWEzY2ZjMDktYTRjNy00NGQxLWFmYjMtMDdhYWM1ZTE0NTUx.usersWithTicketAlerts({\"first\":8}).edges.7': {'node': {'type': 'id',\n    'generated': False,\n    'id': 'VXNlcjoyMTU4MzUx',\n    'typename': 'PublicUser'},\n   '__typename': 'UserEdge'},\n  '$RXZlbnQ6ZWEzY2ZjMDktYTRjNy00NGQxLWFmYjMtMDdhYWM1ZTE0NTUx.usersWithTicketAlerts({\"first\":8})': {'edges': [{'type': 'id',\n     'generated': True,\n     'id': '$RXZlbnQ6ZWEzY2ZjMDktYTRjNy00NGQxLWFmYjMtMDdhYWM1ZTE0NTUx.usersWithTicketAlerts({\"first\":8}).edges.0',\n     'typename': 'UserEdge'},\n    {'type': 'id',\n     'generated': True,\n     'id': '$RXZlbnQ6ZWEzY2ZjMDktYTRjNy00NGQxLWFmYjMtMDdhYWM1ZTE0NTUx.usersWithTicketAlerts({\"first\":8}).edges.1',\n     'typename': 'UserEdge'},\n    {'type': 'id',\n     'generated': True,\n     'id': '$RXZlbnQ6ZWEzY2ZjMDktYTRjNy00NGQxLWFmYjMtMDdhYWM1ZTE0NTUx.usersWithTicketAlerts({\"first\":8}).edges.2',\n     'typename': 'UserEdge'},\n    {'type': 'id',\n     'generated': True,\n     'id': '$RXZlbnQ6ZWEzY2ZjMDktYTRjNy00NGQxLWFmYjMtMDdhYWM1ZTE0NTUx.usersWithTicketAlerts({\"first\":8}).edges.3',\n     'typename': 'UserEdge'},\n    {'type': 'id',\n     'generated': True,\n     'id': '$RXZlbnQ6ZWEzY2ZjMDktYTRjNy00NGQxLWFmYjMtMDdhYWM1ZTE0NTUx.usersWithTicketAlerts({\"first\":8}).edges.4',\n     'typename': 'UserEdge'},\n    {'type': 'id',\n     'generated': True,\n     'id': '$RXZlbnQ6ZWEzY2ZjMDktYTRjNy00NGQxLWFmYjMtMDdhYWM1ZTE0NTUx.usersWithTicketAlerts({\"first\":8}).edges.5',\n     'typename': 'UserEdge'},\n    {'type': 'id',\n     'generated': True,\n     'id': '$RXZlbnQ6ZWEzY2ZjMDktYTRjNy00NGQxLWFmYjMtMDdhYWM1ZTE0NTUx.usersWithTicketAlerts({\"first\":8}).edges.6',\n     'typename': 'UserEdge'},\n    {'type': 'id',\n     'generated': True,\n     'id': '$RXZlbnQ6ZWEzY2ZjMDktYTRjNy00NGQxLWFmYjMtMDdhYWM1ZTE0NTUx.usersWithTicketAlerts({\"first\":8}).edges.7',\n     'typename': 'UserEdge'}],\n   '__typename': 'UserConnection'},\n  'TGlzdGluZzo0NjQ4MDI1': {'id': 'TGlzdGluZzo0NjQ4MDI1',\n   'hash': '5eb4d9ddf0',\n   'description': None,\n   'isPublic': True,\n   'event': {'type': 'id',\n    'generated': False,\n    'id': 'RXZlbnQ6ZWEzY2ZjMDktYTRjNy00NGQxLWFmYjMtMDdhYWM1ZTE0NTUx',\n    'typename': 'ActiveEvent'},\n   'eventType': {'type': 'id',\n    'generated': False,\n    'id': 'RXZlbnRUeXBlOjE2MTUwOTA=',\n    'typename': 'EventType'},\n   'seller': {'type': 'id',\n    'generated': False,\n    'id': 'VXNlcjo5NjI5MzA=',\n    'typename': 'PublicUser'},\n   'numberOfTicketsInListing': 2,\n   'price': {'type': 'id',\n    'generated': True,\n    'id': '$TGlzdGluZzo0NjQ4MDI1.price',\n    'typename': 'ListingPrice'},\n   '__typename': 'PublicListing'},\n  '$TGlzdGluZzo0NjQ4MDI1.price.totalPriceWithTransactionFee': {'formattedAmount': '€89,01',\n   '__typename': 'Money'},\n  '$TGlzdGluZzo0NjQ4MDI1.price': {'totalPriceWithTransactionFee': {'type': 'id',\n    'generated': True,\n    'id': '$TGlzdGluZzo0NjQ4MDI1.price.totalPriceWithTransactionFee',\n    'typename': 'Money'},\n   '__typename': 'ListingPrice'},\n  '$RXZlbnRUeXBlOjE2MTUwOTA=.listings({\"filter\":{\"listingStatus\":\"AVAILABLE\"},\"first\":50}).edges.0': {'node': {'type': 'id',\n    'generated': False,\n    'id': 'TGlzdGluZzo0NjQ4MDI1',\n    'typename': 'PublicListing'},\n   '__typename': 'ListingEdge'},\n  '$RXZlbnRUeXBlOjE2MTUwOTA=.listings({\"filter\":{\"listingStatus\":\"AVAILABLE\"},\"first\":50})': {'edges': [{'type': 'id',\n     'generated': True,\n     'id': '$RXZlbnRUeXBlOjE2MTUwOTA=.listings({\"filter\":{\"listingStatus\":\"AVAILABLE\"},\"first\":50}).edges.0',\n     'typename': 'ListingEdge'}],\n   'pageInfo': {'type': 'id',\n    'generated': True,\n    'id': '$RXZlbnRUeXBlOjE2MTUwOTA=.listings({\"filter\":{\"listingStatus\":\"AVAILABLE\"},\"first\":50}).pageInfo',\n    'typename': 'PageInfo'},\n   '__typename': 'ListingConnection'},\n  '$RXZlbnRUeXBlOjE2MTUwOTA=.listings({\"filter\":{\"listingStatus\":\"AVAILABLE\"},\"first\":50}).pageInfo': {'endCursor': 'YXJyYXljb25uZWN0aW9uOjA=',\n   'hasNextPage': False,\n   '__typename': 'PageInfo'},\n  '$RXZlbnRUeXBlOjE2MTUwOTA=.listings({\"filter\":{\"listingStatus\":\"RESERVED\"},\"first\":10})': {'edges': [],\n   'pageInfo': {'type': 'id',\n    'generated': True,\n    'id': '$RXZlbnRUeXBlOjE2MTUwOTA=.listings({\"filter\":{\"listingStatus\":\"RESERVED\"},\"first\":10}).pageInfo',\n    'typename': 'PageInfo'},\n   '__typename': 'ListingConnection'},\n  '$RXZlbnRUeXBlOjE2MTUwOTA=.listings({\"filter\":{\"listingStatus\":\"RESERVED\"},\"first\":10}).pageInfo': {'endCursor': None,\n   'hasNextPage': False,\n   '__typename': 'PageInfo'},\n  'TGlzdGluZzo0NjQ1Mjc2': {'id': 'TGlzdGluZzo0NjQ1Mjc2',\n   'hash': '09bb70b294',\n   'description': None,\n   'isPublic': True,\n   'event': {'type': 'id',\n    'generated': False,\n    'id': 'RXZlbnQ6ZWEzY2ZjMDktYTRjNy00NGQxLWFmYjMtMDdhYWM1ZTE0NTUx',\n    'typename': 'ActiveEvent'},\n   'eventType': {'type': 'id',\n    'generated': False,\n    'id': 'RXZlbnRUeXBlOjE2MTUwOTA=',\n    'typename': 'EventType'},\n   'seller': {'type': 'id',\n    'generated': False,\n    'id': 'VXNlcjo1MDc1MDkw',\n    'typename': 'PublicUser'},\n   'numberOfTicketsInListing': 2,\n   'price': {'type': 'id',\n    'generated': True,\n    'id': '$TGlzdGluZzo0NjQ1Mjc2.price',\n    'typename': 'ListingPrice'},\n   '__typename': 'PublicListing'},\n  '$TGlzdGluZzo0NjQ1Mjc2.price.totalPriceWithTransactionFee': {'formattedAmount': '€90,39',\n   '__typename': 'Money'},\n  '$TGlzdGluZzo0NjQ1Mjc2.price': {'totalPriceWithTransactionFee': {'type': 'id',\n    'generated': True,\n    'id': '$TGlzdGluZzo0NjQ1Mjc2.price.totalPriceWithTransactionFee',\n    'typename': 'Money'},\n   '__typename': 'ListingPrice'},\n  '$RXZlbnRUeXBlOjE2MTUwOTA=.listings({\"filter\":{\"listingStatus\":\"SOLD\"},\"first\":10}).edges.0': {'node': {'type': 'id',\n    'generated': False,\n    'id': 'TGlzdGluZzo0NjQ1Mjc2',\n    'typename': 'PublicListing'},\n   '__typename': 'ListingEdge'},\n  'TGlzdGluZzo0NjQ5MDE5': {'id': 'TGlzdGluZzo0NjQ5MDE5',\n   'hash': '9441aebb69',\n   'description': None,\n   'isPublic': True,\n   'event': {'type': 'id',\n    'generated': False,\n    'id': 'RXZlbnQ6ZWEzY2ZjMDktYTRjNy00NGQxLWFmYjMtMDdhYWM1ZTE0NTUx',\n    'typename': 'ActiveEvent'},\n   'eventType': {'type': 'id',\n    'generated': False,\n    'id': 'RXZlbnRUeXBlOjE2MTUwOTA=',\n    'typename': 'EventType'},\n   'seller': {'type': 'id',\n    'generated': False,\n    'id': 'VXNlcjo1MDYzNjYw',\n    'typename': 'PublicUser'},\n   'numberOfTicketsInListing': 2,\n   'price': {'type': 'id',\n    'generated': True,\n    'id': '$TGlzdGluZzo0NjQ5MDE5.price',\n    'typename': 'ListingPrice'},\n   '__typename': 'PublicListing'},\n  '$TGlzdGluZzo0NjQ5MDE5.price.totalPriceWithTransactionFee': {'formattedAmount': '€97,34',\n   '__typename': 'Money'},\n  '$TGlzdGluZzo0NjQ5MDE5.price': {'totalPriceWithTransactionFee': {'type': 'id',\n    'generated': True,\n    'id': '$TGlzdGluZzo0NjQ5MDE5.price.totalPriceWithTransactionFee',\n    'typename': 'Money'},\n   '__typename': 'ListingPrice'},\n  '$RXZlbnRUeXBlOjE2MTUwOTA=.listings({\"filter\":{\"listingStatus\":\"SOLD\"},\"first\":10}).edges.1': {'node': {'type': 'id',\n    'generated': False,\n    'id': 'TGlzdGluZzo0NjQ5MDE5',\n    'typename': 'PublicListing'},\n   '__typename': 'ListingEdge'},\n  '$RXZlbnRUeXBlOjE2MTUwOTA=.listings({\"filter\":{\"listingStatus\":\"SOLD\"},\"first\":10})': {'edges': [{'type': 'id',\n     'generated': True,\n     'id': '$RXZlbnRUeXBlOjE2MTUwOTA=.listings({\"filter\":{\"listingStatus\":\"SOLD\"},\"first\":10}).edges.0',\n     'typename': 'ListingEdge'},\n    {'type': 'id',\n     'generated': True,\n     'id': '$RXZlbnRUeXBlOjE2MTUwOTA=.listings({\"filter\":{\"listingStatus\":\"SOLD\"},\"first\":10}).edges.1',\n     'typename': 'ListingEdge'}],\n   'pageInfo': {'type': 'id',\n    'generated': True,\n    'id': '$RXZlbnRUeXBlOjE2MTUwOTA=.listings({\"filter\":{\"listingStatus\":\"SOLD\"},\"first\":10}).pageInfo',\n    'typename': 'PageInfo'},\n   '__typename': 'ListingConnection'},\n  '$RXZlbnRUeXBlOjE2MTUwOTA=.listings({\"filter\":{\"listingStatus\":\"SOLD\"},\"first\":10}).pageInfo': {'endCursor': 'YXJyYXljb25uZWN0aW9uOjE=',\n   'hasNextPage': False,\n   '__typename': 'PageInfo'}}}"
     },
     "execution_count": 28,
     "metadata": {},
     "output_type": "execute_result"
    }
   ],
   "source": [
    "ldjson['props']"
   ]
  },
  {
   "cell_type": "code",
   "execution_count": null,
   "metadata": {},
   "outputs": [],
   "source": []
  }
 ],
 "metadata": {
  "kernelspec": {
   "display_name": "Python 3",
   "language": "python",
   "name": "python3"
  },
  "language_info": {
   "codemirror_mode": {
    "name": "ipython",
    "version": 3
   },
   "file_extension": ".py",
   "mimetype": "text/x-python",
   "name": "python",
   "nbconvert_exporter": "python",
   "pygments_lexer": "ipython3",
   "version": "3.8.1-final"
  }
 },
 "nbformat": 4,
 "nbformat_minor": 2
}