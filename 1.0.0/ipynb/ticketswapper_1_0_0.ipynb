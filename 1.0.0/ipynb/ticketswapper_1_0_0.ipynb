{
 "cells": [
  {
   "cell_type": "code",
   "execution_count": 3,
   "metadata": {},
   "outputs": [],
   "source": [
    "# Load dependencies\n",
    "from bs4 import BeautifulSoup\n",
    "import requests\n",
    "import json\n",
    "import time\n",
    "import random\n",
    "import webbrowser\n",
    "import sys\n",
    "\n",
    "sys.setrecursionlimit(9999)"
   ]
  },
  {
   "cell_type": "code",
   "execution_count": null,
   "metadata": {},
   "outputs": [],
   "source": [
    "# Load url\n",
    "url = \"https://www.ticketswap.com/event/graspop-metal-meeting-2019/saturday/e09ca5a0-6042-4618-b733-4eed96015736/1064946\""
   ]
  },
  {
   "cell_type": "code",
   "execution_count": null,
   "metadata": {},
   "outputs": [],
   "source": [
    "# v1.0 Extract JSON info\n",
    "def check_ticketswap_offers(url, counter = 0):\n",
    "    page = requests.get(url)\n",
    "    soup = BeautifulSoup(page.text, 'html.parser')\n",
    "    ldjson_soup = soup.findAll(\"script\", attrs = {'type':\"application/ld+json\"})\n",
    "    ldjson_str = ldjson_soup[0].text\n",
    "    ldjson = json.loads(ldjson_str)\n",
    "    if int(ldjson['offers']['offerCount']) < 1:\n",
    "        seconds = random.randrange (75, 125) / 100\n",
    "        time.sleep(seconds)\n",
    "        counter += 1\n",
    "        print(\"Try %s\" % counter)\n",
    "        return check_ticketswap_offers(url, counter)\n",
    "    url_open = ldjson['offers']['offers'][0]['url']\n",
    "    webbrowser.open_new(url_open)"
   ]
  },
  {
   "cell_type": "code",
   "execution_count": null,
   "metadata": {},
   "outputs": [],
   "source": [
    "# v2.0 Extract LD+JSON info\n",
    "def check_ticketswap_offers(url, counter = 0):\n",
    "    page = requests.get(url)\n",
    "    soup = BeautifulSoup(page.text, 'html.parser')\n",
    "    ldjson_soup = soup.findAll(\"script\", attrs = {'type':\"application/json\"})\n",
    "    ldjson_str = ldjson_soup[0].text\n",
    "    ldjson = json.loads(ldjson_str)\n",
    "    if int(ldjson['props']['pageProps']['data']['node']['availableTicketsCount']) < 1:\n",
    "        seconds = random.randrange (75, 125) / 100\n",
    "        time.sleep(seconds)\n",
    "        counter += 1\n",
    "        print(\"Try %s\" % counter)\n",
    "        return check_ticketswap_offers(url, counter)\n",
    "    path = ldjson['props']['pageProps']['data']['node']['event']['types']['edges'][0]['node']['availableListings']['edges'][0]['node']['uri']['path'].split('?')[0]\n",
    "    url_open = \"https://ticketswap.nl\" + path\n",
    "    webbrowser.get('chrome').open_new(url_open)"
   ]
  },
  {
   "cell_type": "code",
   "execution_count": null,
   "metadata": {},
   "outputs": [],
   "source": [
    "check_ticketswap_offers(url)"
   ]
  },
  {
   "cell_type": "markdown",
   "metadata": {},
   "source": [
    "### To do:\n",
    "- Search source page for ld+json or json to create conditional function\n",
    "- Use 'url-open' to press buy"
   ]
  },
  {
   "cell_type": "code",
   "execution_count": null,
   "metadata": {},
   "outputs": [],
   "source": [
    "test = \n",
    "test"
   ]
  },
  {
   "cell_type": "code",
   "execution_count": null,
   "metadata": {},
   "outputs": [],
   "source": []
  }
 ],
 "metadata": {
  "kernelspec": {
   "display_name": "Python 3",
   "language": "python",
   "name": "python3"
  },
  "language_info": {
   "codemirror_mode": {
    "name": "ipython",
    "version": 3
   },
   "file_extension": ".py",
   "mimetype": "text/x-python",
   "name": "python",
   "nbconvert_exporter": "python",
   "pygments_lexer": "ipython3",
   "version": "3.6.8"
  }
 },
 "nbformat": 4,
 "nbformat_minor": 2
}
